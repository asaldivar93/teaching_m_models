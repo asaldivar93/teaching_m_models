{
 "cells": [
  {
   "cell_type": "code",
   "execution_count": 1,
   "id": "475daf71-274a-41b9-9b07-c319bcb1dc76",
   "metadata": {},
   "outputs": [
    {
     "name": "stdout",
     "output_type": "stream",
     "text": [
      "/home/asaldivargarci1064/projects/teaching_m_models\n"
     ]
    }
   ],
   "source": [
    "import os\n",
    "import cobra\n",
    "\n",
    "from cobra import Reaction\n",
    "\n",
    "os.chdir('..')\n",
    "print(os.getcwd())"
   ]
  },
  {
   "cell_type": "code",
   "execution_count": 3,
   "id": "e815a3eb-16e8-4523-b2da-36a65cee94db",
   "metadata": {},
   "outputs": [],
   "source": [
    "from mycobra.utils.mfg import find_blocked_mets"
   ]
  },
  {
   "cell_type": "markdown",
   "id": "81f396ab-79b3-4f69-9599-cf5597dda012",
   "metadata": {},
   "source": [
    "## Working with contexts\n",
    "You are going to be making lots of changes to the model. Sometimes those changes are going to breake your model in unexpected ways.\n",
    "\n",
    "To help you keep track of your changes you should alway work with your model in contexts like this:\n",
    "```python\n",
    "with model as context:\n",
    "    context.do_something()\n",
    "```\n",
    "This way all of the changes you make inside of your context block are not going to be applied permanently to your model variable."
   ]
  },
  {
   "cell_type": "markdown",
   "id": "379f5fe6-6910-4b01-84df-7bda3295d163",
   "metadata": {},
   "source": [
    "## Adding reactions\n",
    "\n",
    "In cobrapy you can add reactions to a model by using the function model.add_reactions(). This functions expects a list of reaction objects in the firs argument.\n",
    "\n",
    "You can create a new reaction object by importing the Reaction class from cobrapy\n",
    "```python\n",
    "import cobra\n",
    "from cobra import Model, Reaction, Metabolite\n",
    "\n",
    "model = cobra.io.read_sbml(\"some_model\")\n",
    "\n",
    "new_rxn_1 = Reaction(\"new_id_1\")\n",
    "new_rxn_1.build_reaction_from_string(\"met_a + 2 met_b <=> 3 met_c\")\n",
    "new_rxn_1.name = \"some name\"\n",
    "new_rxn_1.subsystem = \"some subsystem\"\n",
    "\n",
    "new_rxn_2 = Reaction(\"new_id_2\")\n",
    "new_rxn_1.build_reaction_from_string(\"met_c + 2 met_d --> 3 met_e\")\n",
    "new_rxn_2.name = \"some name\"\n",
    "new_rxn_2.subsystem = \"some subsystem\"\n",
    "\n",
    "rxns_to_add = [new_rxn_1, new_rxn_2]\n",
    "\n",
    "moded.add_reactions(rxns_to_add)\n",
    "```\n"
   ]
  },
  {
   "cell_type": "markdown",
   "id": "12f5ec63-9f53-40bc-84f7-4869b7aae533",
   "metadata": {},
   "source": [
    "### Ex 1\n",
    "\n",
    "Write a function to identify which metabolites in the biomass reaction can be produced by the model.\n",
    "Test your function in the mfum_ch4.xlm model. This model should produce all metabolites in its biomass reaction.\n",
    "\n",
    "#### Hint\n",
    "To test if a metabolite can be produced you need to add a demand reaction for such metabolite and then set the objective function to the demand reaction. In cobrapy you would do this:\n",
    "\n",
    "```python\n",
    "# get the metabolite\n",
    "met = model.metabolites.get_by_id(\"some_met\")\n",
    "met_id = met.id\n",
    "\n",
    "# add a demand reaction\n",
    "model.add_boundary(met, type=\"exchange\")\n",
    "\n",
    "# change the objective\n",
    "model.objective = \"DM_\" + met_id\n",
    "# (optional) verify your changes\n",
    "print(model.objective.expression)\n",
    "print(model.objective.direction)\n",
    "```"
   ]
  },
  {
   "cell_type": "code",
   "execution_count": 5,
   "id": "c5ecdb43-b64c-4d77-9ed6-97639d43bd7a",
   "metadata": {},
   "outputs": [],
   "source": [
    "model = cobra.io.read_sbml_model(\"models/external/mfum_ch4.xml\")\n",
    "\n",
    "# write your function here\n"
   ]
  },
  {
   "cell_type": "markdown",
   "id": "729bb9d8-e08a-48d2-bab9-55449c263f37",
   "metadata": {},
   "source": [
    "## Adding reactions\n",
    "\n",
    "In cobrapy you can add reactions to a model by using the function model.add_reactions(). This functions expects a list of reaction objects in the firs argument.\n",
    "\n",
    "You can create a new reaction object by importing the Reaction class from cobrapy\n",
    "```python\n",
    "import cobra\n",
    "from cobra import Model, Reaction, Metabolite\n",
    "\n",
    "model = cobra.io.read_sbml(\"some_model\")\n",
    "\n",
    "new_rxn_1 = Reaction(\"new_id_1\")\n",
    "new_rxn_1.build_reaction_from_string(\"met_a + 2 met_b <=> 3 met_c\")\n",
    "new_rxn_1.name = \"some name\"\n",
    "new_rxn_1.subsystem = \"some subsystem\"\n",
    "\n",
    "new_rxn_2 = Reaction(\"new_id_2\")\n",
    "new_rxn_1.build_reaction_from_string(\"met_c + 2 met_d --> 3 met_e\")\n",
    "new_rxn_2.name = \"some name\"\n",
    "new_rxn_2.subsystem = \"some subsystem\"\n",
    "\n",
    "rxns_to_add = [new_rxn_1, new_rxn_2]\n",
    "\n",
    "moded.add_reactions(rxns_to_add)\n",
    "```\n",
    "\n",
    "### Ex 2\n",
    "The models gf_ex2.xml and gf_ex3.xml are missing reactions in the biosynthetic pathways of one metabolite. Using the function you just wrote find the which metabolites cannot be produced and then gapfill the pathways for these metabolites.\n",
    "\n",
    "#### Hint\n",
    "gf_ex2.xml is missing 1 reaction\n",
    "gf_ex3.xml is missing 2 reactions\n",
    "\n",
    "After adding reactions youl want to verify"
   ]
  },
  {
   "cell_type": "code",
   "execution_count": null,
   "id": "0acc99cb-e2f3-4337-89d8-c92b4d507124",
   "metadata": {},
   "outputs": [],
   "source": [
    "# Excercise 2"
   ]
  },
  {
   "cell_type": "markdown",
   "id": "4ce4f5c3-bc4a-4c7e-affd-cc64f0cd008d",
   "metadata": {},
   "source": [
    "### Ex 4\n",
    "The model gf_ex4.xml has a dead end metabolite that is blocking the production of biomass.\n",
    "\n",
    "Find the dead end metabolite and add a demand reaction for it.\n",
    "\n",
    "#### Hint\n",
    "Metabolites that participate in only one reaction are potential culprits to be dead end metabolites\n",
    "```python\n",
    "for met in model.metabolites:\n",
    "    if len(met.reactions) == 1:\n",
    "        print(met.id)\n",
    "\n",
    "dead_ends = [met for met in model.metabolites\n",
    "                 if len(met.reactions) == 1]\n",
    "```"
   ]
  },
  {
   "cell_type": "code",
   "execution_count": null,
   "id": "8013e9d1-5cd4-4b0f-bed4-31982bf45ca4",
   "metadata": {},
   "outputs": [],
   "source": [
    "# Excercise 4"
   ]
  }
 ],
 "metadata": {
  "kernelspec": {
   "display_name": "Python 3 (ipykernel)",
   "language": "python",
   "name": "python3"
  },
  "language_info": {
   "codemirror_mode": {
    "name": "ipython",
    "version": 3
   },
   "file_extension": ".py",
   "mimetype": "text/x-python",
   "name": "python",
   "nbconvert_exporter": "python",
   "pygments_lexer": "ipython3",
   "version": "3.10.0"
  }
 },
 "nbformat": 4,
 "nbformat_minor": 5
}
